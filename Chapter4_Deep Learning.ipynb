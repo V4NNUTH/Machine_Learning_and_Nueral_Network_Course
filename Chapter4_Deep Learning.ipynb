{
 "cells": [
  {
   "cell_type": "markdown",
   "id": "42b1a8b9",
   "metadata": {},
   "source": [
    "page 124 MPL2.py"
   ]
  },
  {
   "cell_type": "code",
   "execution_count": 1,
   "id": "cd380800",
   "metadata": {},
   "outputs": [],
   "source": [
    "from keras.models import Sequential\n",
    "from keras.layers import Activation, Dense\n",
    "from keras import optimizers\n",
    "from sklearn.datasets import load_breast_cancer\n",
    "from sklearn.model_selection import train_test_split"
   ]
  },
  {
   "cell_type": "code",
   "execution_count": 2,
   "id": "541a7399",
   "metadata": {},
   "outputs": [],
   "source": [
    "whole_data = load_breast_cancer()"
   ]
  },
  {
   "cell_type": "code",
   "execution_count": 5,
   "id": "6927eb63",
   "metadata": {},
   "outputs": [],
   "source": [
    "X_data = whole_data.data\n",
    "y_data = whole_data.target"
   ]
  },
  {
   "cell_type": "code",
   "execution_count": 6,
   "id": "2e4d183a",
   "metadata": {},
   "outputs": [],
   "source": [
    "X_train, X_test, y_train, y_test = train_test_split(X_data, y_data, test_size= 0.3, random_state= 7)"
   ]
  },
  {
   "cell_type": "code",
   "execution_count": 11,
   "id": "2e2319d3",
   "metadata": {},
   "outputs": [
    {
     "data": {
      "text/plain": [
       "30"
      ]
     },
     "execution_count": 11,
     "metadata": {},
     "output_type": "execute_result"
    }
   ],
   "source": [
    "features = X_train.shape[1]\n",
    "features"
   ]
  },
  {
   "cell_type": "code",
   "execution_count": 12,
   "id": "c885d6bc",
   "metadata": {},
   "outputs": [],
   "source": [
    "model = Sequential()\n",
    "model.add(Dense(10, activation='relu', input_shape=[X_train.shape[1]]))\n",
    "model.add(Dense(10, activation='relu'))\n",
    "model.add(Dense(1))"
   ]
  },
  {
   "cell_type": "code",
   "execution_count": 13,
   "id": "bdc9f1ce",
   "metadata": {},
   "outputs": [
    {
     "name": "stdout",
     "output_type": "stream",
     "text": [
      "Model: \"sequential\"\n",
      "_________________________________________________________________\n",
      " Layer (type)                Output Shape              Param #   \n",
      "=================================================================\n",
      " dense (Dense)               (None, 10)                310       \n",
      "                                                                 \n",
      " dense_1 (Dense)             (None, 10)                110       \n",
      "                                                                 \n",
      " dense_2 (Dense)             (None, 1)                 11        \n",
      "                                                                 \n",
      "=================================================================\n",
      "Total params: 431\n",
      "Trainable params: 431\n",
      "Non-trainable params: 0\n",
      "_________________________________________________________________\n"
     ]
    }
   ],
   "source": [
    "model.summary()"
   ]
  },
  {
   "cell_type": "code",
   "execution_count": 14,
   "id": "04601266",
   "metadata": {},
   "outputs": [],
   "source": [
    "model.compile(optimizer = 'adam',loss= 'mean_squared_error',metrics = ['mse'])"
   ]
  },
  {
   "cell_type": "code",
   "execution_count": 15,
   "id": "fbcdaad0",
   "metadata": {},
   "outputs": [
    {
     "name": "stdout",
     "output_type": "stream",
     "text": [
      "Epoch 1/100\n",
      "7/7 [==============================] - 2s 65ms/step - loss: 10246.0615 - mse: 10246.0615 - val_loss: 5851.6191 - val_mse: 5851.6191\n",
      "Epoch 2/100\n",
      "7/7 [==============================] - 0s 10ms/step - loss: 4752.8862 - mse: 4752.8862 - val_loss: 2513.3391 - val_mse: 2513.3391\n",
      "Epoch 3/100\n",
      "7/7 [==============================] - 0s 11ms/step - loss: 1959.3577 - mse: 1959.3577 - val_loss: 968.2544 - val_mse: 968.2544\n",
      "Epoch 4/100\n",
      "7/7 [==============================] - 0s 11ms/step - loss: 791.6654 - mse: 791.6654 - val_loss: 412.7691 - val_mse: 412.7691\n",
      "Epoch 5/100\n",
      "7/7 [==============================] - 0s 11ms/step - loss: 386.1885 - mse: 386.1885 - val_loss: 207.1253 - val_mse: 207.1253\n",
      "Epoch 6/100\n",
      "7/7 [==============================] - 0s 11ms/step - loss: 220.6594 - mse: 220.6594 - val_loss: 123.5355 - val_mse: 123.5355\n",
      "Epoch 7/100\n",
      "7/7 [==============================] - 0s 10ms/step - loss: 142.6484 - mse: 142.6484 - val_loss: 80.6792 - val_mse: 80.6792\n",
      "Epoch 8/100\n",
      "7/7 [==============================] - 0s 11ms/step - loss: 102.1854 - mse: 102.1854 - val_loss: 56.5516 - val_mse: 56.5516\n",
      "Epoch 9/100\n",
      "7/7 [==============================] - 0s 10ms/step - loss: 78.8290 - mse: 78.8290 - val_loss: 42.7862 - val_mse: 42.7862\n",
      "Epoch 10/100\n",
      "7/7 [==============================] - 0s 11ms/step - loss: 65.0795 - mse: 65.0795 - val_loss: 35.3467 - val_mse: 35.3467\n",
      "Epoch 11/100\n",
      "7/7 [==============================] - 0s 10ms/step - loss: 57.0480 - mse: 57.0480 - val_loss: 31.1715 - val_mse: 31.1715\n",
      "Epoch 12/100\n",
      "7/7 [==============================] - 0s 11ms/step - loss: 51.7955 - mse: 51.7955 - val_loss: 28.5819 - val_mse: 28.5819\n",
      "Epoch 13/100\n",
      "7/7 [==============================] - 0s 10ms/step - loss: 49.1592 - mse: 49.1592 - val_loss: 26.9719 - val_mse: 26.9719\n",
      "Epoch 14/100\n",
      "7/7 [==============================] - 0s 11ms/step - loss: 46.9646 - mse: 46.9646 - val_loss: 25.9629 - val_mse: 25.9629\n",
      "Epoch 15/100\n",
      "7/7 [==============================] - 0s 9ms/step - loss: 45.0416 - mse: 45.0416 - val_loss: 25.2255 - val_mse: 25.2255\n",
      "Epoch 16/100\n",
      "7/7 [==============================] - 0s 11ms/step - loss: 43.8621 - mse: 43.8621 - val_loss: 24.6269 - val_mse: 24.6269\n",
      "Epoch 17/100\n",
      "7/7 [==============================] - 0s 9ms/step - loss: 42.2917 - mse: 42.2917 - val_loss: 24.1328 - val_mse: 24.1328\n",
      "Epoch 18/100\n",
      "7/7 [==============================] - 0s 10ms/step - loss: 41.3489 - mse: 41.3489 - val_loss: 23.7137 - val_mse: 23.7137\n",
      "Epoch 19/100\n",
      "7/7 [==============================] - 0s 11ms/step - loss: 40.5014 - mse: 40.5014 - val_loss: 23.3707 - val_mse: 23.3707\n",
      "Epoch 20/100\n",
      "7/7 [==============================] - 0s 10ms/step - loss: 39.7277 - mse: 39.7277 - val_loss: 23.0405 - val_mse: 23.0405\n",
      "Epoch 21/100\n",
      "7/7 [==============================] - 0s 12ms/step - loss: 38.9981 - mse: 38.9981 - val_loss: 22.7325 - val_mse: 22.7325\n",
      "Epoch 22/100\n",
      "7/7 [==============================] - 0s 10ms/step - loss: 38.4059 - mse: 38.4059 - val_loss: 22.4209 - val_mse: 22.4209\n",
      "Epoch 23/100\n",
      "7/7 [==============================] - 0s 11ms/step - loss: 37.7109 - mse: 37.7109 - val_loss: 22.1372 - val_mse: 22.1372\n",
      "Epoch 24/100\n",
      "7/7 [==============================] - 0s 9ms/step - loss: 37.2235 - mse: 37.2235 - val_loss: 21.8876 - val_mse: 21.8876\n",
      "Epoch 25/100\n",
      "7/7 [==============================] - 0s 13ms/step - loss: 36.5822 - mse: 36.5822 - val_loss: 21.5605 - val_mse: 21.5605\n",
      "Epoch 26/100\n",
      "7/7 [==============================] - 0s 13ms/step - loss: 36.1469 - mse: 36.1469 - val_loss: 21.2710 - val_mse: 21.2710\n",
      "Epoch 27/100\n",
      "7/7 [==============================] - 0s 10ms/step - loss: 35.6088 - mse: 35.6088 - val_loss: 21.0524 - val_mse: 21.0524\n",
      "Epoch 28/100\n",
      "7/7 [==============================] - 0s 12ms/step - loss: 34.9989 - mse: 34.9989 - val_loss: 20.7751 - val_mse: 20.7751\n",
      "Epoch 29/100\n",
      "7/7 [==============================] - 0s 9ms/step - loss: 34.5053 - mse: 34.5053 - val_loss: 20.4979 - val_mse: 20.4979\n",
      "Epoch 30/100\n",
      "7/7 [==============================] - 0s 22ms/step - loss: 34.0629 - mse: 34.0629 - val_loss: 20.2654 - val_mse: 20.2654\n",
      "Epoch 31/100\n",
      "7/7 [==============================] - 0s 12ms/step - loss: 33.3965 - mse: 33.3965 - val_loss: 20.0293 - val_mse: 20.0293\n",
      "Epoch 32/100\n",
      "7/7 [==============================] - 0s 10ms/step - loss: 32.9975 - mse: 32.9975 - val_loss: 19.8175 - val_mse: 19.8175\n",
      "Epoch 33/100\n",
      "7/7 [==============================] - 0s 10ms/step - loss: 32.4403 - mse: 32.4403 - val_loss: 19.5313 - val_mse: 19.5313\n",
      "Epoch 34/100\n",
      "7/7 [==============================] - 0s 11ms/step - loss: 32.0709 - mse: 32.0709 - val_loss: 19.2668 - val_mse: 19.2668\n",
      "Epoch 35/100\n",
      "7/7 [==============================] - 0s 10ms/step - loss: 31.5222 - mse: 31.5222 - val_loss: 19.1192 - val_mse: 19.1192\n",
      "Epoch 36/100\n",
      "7/7 [==============================] - 0s 9ms/step - loss: 31.0860 - mse: 31.0860 - val_loss: 18.9488 - val_mse: 18.9488\n",
      "Epoch 37/100\n",
      "7/7 [==============================] - 0s 10ms/step - loss: 30.5686 - mse: 30.5686 - val_loss: 18.6860 - val_mse: 18.6860\n",
      "Epoch 38/100\n",
      "7/7 [==============================] - 0s 9ms/step - loss: 30.1968 - mse: 30.1968 - val_loss: 18.4346 - val_mse: 18.4346\n",
      "Epoch 39/100\n",
      "7/7 [==============================] - 0s 10ms/step - loss: 29.8025 - mse: 29.8025 - val_loss: 18.1843 - val_mse: 18.1843\n",
      "Epoch 40/100\n",
      "7/7 [==============================] - 0s 12ms/step - loss: 29.4566 - mse: 29.4566 - val_loss: 17.9741 - val_mse: 17.9741\n",
      "Epoch 41/100\n",
      "7/7 [==============================] - 0s 14ms/step - loss: 29.0070 - mse: 29.0070 - val_loss: 17.6338 - val_mse: 17.6338\n",
      "Epoch 42/100\n",
      "7/7 [==============================] - 0s 11ms/step - loss: 28.6285 - mse: 28.6285 - val_loss: 17.2324 - val_mse: 17.2324\n",
      "Epoch 43/100\n",
      "7/7 [==============================] - 0s 12ms/step - loss: 28.3467 - mse: 28.3467 - val_loss: 16.8999 - val_mse: 16.8999\n",
      "Epoch 44/100\n",
      "7/7 [==============================] - 0s 10ms/step - loss: 27.9079 - mse: 27.9079 - val_loss: 16.6910 - val_mse: 16.6910\n",
      "Epoch 45/100\n",
      "7/7 [==============================] - 0s 11ms/step - loss: 27.4619 - mse: 27.4619 - val_loss: 16.3902 - val_mse: 16.3902\n",
      "Epoch 46/100\n",
      "7/7 [==============================] - 0s 11ms/step - loss: 27.0827 - mse: 27.0827 - val_loss: 16.0743 - val_mse: 16.0743\n",
      "Epoch 47/100\n",
      "7/7 [==============================] - 0s 13ms/step - loss: 26.6774 - mse: 26.6774 - val_loss: 15.8328 - val_mse: 15.8328\n",
      "Epoch 48/100\n",
      "7/7 [==============================] - 0s 12ms/step - loss: 26.2744 - mse: 26.2744 - val_loss: 15.5742 - val_mse: 15.5742\n",
      "Epoch 49/100\n",
      "7/7 [==============================] - 0s 11ms/step - loss: 25.8627 - mse: 25.8627 - val_loss: 15.3300 - val_mse: 15.3300\n",
      "Epoch 50/100\n",
      "7/7 [==============================] - 0s 12ms/step - loss: 25.5420 - mse: 25.5420 - val_loss: 15.1301 - val_mse: 15.1301\n",
      "Epoch 51/100\n",
      "7/7 [==============================] - 0s 10ms/step - loss: 25.2498 - mse: 25.2498 - val_loss: 14.9034 - val_mse: 14.9034\n",
      "Epoch 52/100\n",
      "7/7 [==============================] - 0s 11ms/step - loss: 24.8074 - mse: 24.8074 - val_loss: 14.5005 - val_mse: 14.5005\n",
      "Epoch 53/100\n",
      "7/7 [==============================] - 0s 11ms/step - loss: 24.5084 - mse: 24.5084 - val_loss: 14.2649 - val_mse: 14.2649\n",
      "Epoch 54/100\n",
      "7/7 [==============================] - 0s 14ms/step - loss: 24.0554 - mse: 24.0554 - val_loss: 13.9604 - val_mse: 13.9604\n",
      "Epoch 55/100\n",
      "7/7 [==============================] - 0s 13ms/step - loss: 23.6908 - mse: 23.6908 - val_loss: 13.6500 - val_mse: 13.6500\n",
      "Epoch 56/100\n",
      "7/7 [==============================] - 0s 12ms/step - loss: 23.2919 - mse: 23.2919 - val_loss: 13.3718 - val_mse: 13.3718\n",
      "Epoch 57/100\n",
      "7/7 [==============================] - 0s 10ms/step - loss: 22.9326 - mse: 22.9326 - val_loss: 13.1557 - val_mse: 13.1557\n",
      "Epoch 58/100\n",
      "7/7 [==============================] - 0s 11ms/step - loss: 22.5454 - mse: 22.5454 - val_loss: 12.9107 - val_mse: 12.9107\n",
      "Epoch 59/100\n",
      "7/7 [==============================] - 0s 12ms/step - loss: 22.2106 - mse: 22.2106 - val_loss: 12.6174 - val_mse: 12.6174\n",
      "Epoch 60/100\n",
      "7/7 [==============================] - 0s 11ms/step - loss: 21.8500 - mse: 21.8500 - val_loss: 12.4079 - val_mse: 12.4079\n",
      "Epoch 61/100\n"
     ]
    },
    {
     "name": "stdout",
     "output_type": "stream",
     "text": [
      "7/7 [==============================] - 0s 11ms/step - loss: 21.4138 - mse: 21.4138 - val_loss: 12.0396 - val_mse: 12.0396\n",
      "Epoch 62/100\n",
      "7/7 [==============================] - 0s 10ms/step - loss: 21.0288 - mse: 21.0288 - val_loss: 11.7201 - val_mse: 11.7201\n",
      "Epoch 63/100\n",
      "7/7 [==============================] - 0s 11ms/step - loss: 20.6771 - mse: 20.6771 - val_loss: 11.3952 - val_mse: 11.3952\n",
      "Epoch 64/100\n",
      "7/7 [==============================] - 0s 12ms/step - loss: 20.1849 - mse: 20.1849 - val_loss: 11.0892 - val_mse: 11.0892\n",
      "Epoch 65/100\n",
      "7/7 [==============================] - 0s 12ms/step - loss: 19.8022 - mse: 19.8022 - val_loss: 10.7813 - val_mse: 10.7813\n",
      "Epoch 66/100\n",
      "7/7 [==============================] - 0s 10ms/step - loss: 19.3772 - mse: 19.3772 - val_loss: 10.4985 - val_mse: 10.4985\n",
      "Epoch 67/100\n",
      "7/7 [==============================] - 0s 9ms/step - loss: 19.0548 - mse: 19.0548 - val_loss: 10.3291 - val_mse: 10.3291\n",
      "Epoch 68/100\n",
      "7/7 [==============================] - 0s 11ms/step - loss: 18.5023 - mse: 18.5023 - val_loss: 10.0607 - val_mse: 10.0607\n",
      "Epoch 69/100\n",
      "7/7 [==============================] - 0s 10ms/step - loss: 18.1335 - mse: 18.1335 - val_loss: 9.7428 - val_mse: 9.7428\n",
      "Epoch 70/100\n",
      "7/7 [==============================] - 0s 10ms/step - loss: 17.7984 - mse: 17.7984 - val_loss: 9.5300 - val_mse: 9.5300\n",
      "Epoch 71/100\n",
      "7/7 [==============================] - 0s 11ms/step - loss: 17.3177 - mse: 17.3177 - val_loss: 9.2115 - val_mse: 9.2115\n",
      "Epoch 72/100\n",
      "7/7 [==============================] - 0s 11ms/step - loss: 16.9583 - mse: 16.9583 - val_loss: 8.9384 - val_mse: 8.9384\n",
      "Epoch 73/100\n",
      "7/7 [==============================] - 0s 11ms/step - loss: 16.5926 - mse: 16.5926 - val_loss: 8.6668 - val_mse: 8.6668\n",
      "Epoch 74/100\n",
      "7/7 [==============================] - 0s 9ms/step - loss: 16.3391 - mse: 16.3391 - val_loss: 8.4434 - val_mse: 8.4434\n",
      "Epoch 75/100\n",
      "7/7 [==============================] - 0s 10ms/step - loss: 16.0530 - mse: 16.0530 - val_loss: 8.2205 - val_mse: 8.2205\n",
      "Epoch 76/100\n",
      "7/7 [==============================] - 0s 11ms/step - loss: 15.7443 - mse: 15.7443 - val_loss: 7.9938 - val_mse: 7.9938\n",
      "Epoch 77/100\n",
      "7/7 [==============================] - 0s 11ms/step - loss: 15.3734 - mse: 15.3734 - val_loss: 7.9129 - val_mse: 7.9129\n",
      "Epoch 78/100\n",
      "7/7 [==============================] - 0s 12ms/step - loss: 15.1777 - mse: 15.1777 - val_loss: 7.7779 - val_mse: 7.7779\n",
      "Epoch 79/100\n",
      "7/7 [==============================] - 0s 11ms/step - loss: 14.7768 - mse: 14.7768 - val_loss: 7.4517 - val_mse: 7.4517\n",
      "Epoch 80/100\n",
      "7/7 [==============================] - 0s 9ms/step - loss: 14.4676 - mse: 14.4676 - val_loss: 7.1910 - val_mse: 7.1910\n",
      "Epoch 81/100\n",
      "7/7 [==============================] - 0s 11ms/step - loss: 14.1548 - mse: 14.1548 - val_loss: 7.0283 - val_mse: 7.0283\n",
      "Epoch 82/100\n",
      "7/7 [==============================] - 0s 10ms/step - loss: 13.8978 - mse: 13.8978 - val_loss: 6.8979 - val_mse: 6.8979\n",
      "Epoch 83/100\n",
      "7/7 [==============================] - 0s 10ms/step - loss: 13.6422 - mse: 13.6422 - val_loss: 6.7443 - val_mse: 6.7443\n",
      "Epoch 84/100\n",
      "7/7 [==============================] - 0s 11ms/step - loss: 13.4135 - mse: 13.4135 - val_loss: 6.6124 - val_mse: 6.6124\n",
      "Epoch 85/100\n",
      "7/7 [==============================] - 0s 11ms/step - loss: 13.2403 - mse: 13.2403 - val_loss: 6.5041 - val_mse: 6.5041\n",
      "Epoch 86/100\n",
      "7/7 [==============================] - 0s 11ms/step - loss: 12.9126 - mse: 12.9126 - val_loss: 6.3847 - val_mse: 6.3847\n",
      "Epoch 87/100\n",
      "7/7 [==============================] - 0s 10ms/step - loss: 12.7406 - mse: 12.7406 - val_loss: 6.2621 - val_mse: 6.2621\n",
      "Epoch 88/100\n",
      "7/7 [==============================] - 0s 9ms/step - loss: 12.5281 - mse: 12.5281 - val_loss: 6.1070 - val_mse: 6.1070\n",
      "Epoch 89/100\n",
      "7/7 [==============================] - 0s 10ms/step - loss: 12.2745 - mse: 12.2745 - val_loss: 5.9823 - val_mse: 5.9823\n",
      "Epoch 90/100\n",
      "7/7 [==============================] - 0s 11ms/step - loss: 12.0759 - mse: 12.0759 - val_loss: 5.8558 - val_mse: 5.8558\n",
      "Epoch 91/100\n",
      "7/7 [==============================] - 0s 9ms/step - loss: 11.8187 - mse: 11.8187 - val_loss: 5.7533 - val_mse: 5.7533\n",
      "Epoch 92/100\n",
      "7/7 [==============================] - 0s 15ms/step - loss: 11.6591 - mse: 11.6591 - val_loss: 5.6635 - val_mse: 5.6635\n",
      "Epoch 93/100\n",
      "7/7 [==============================] - 0s 11ms/step - loss: 11.4824 - mse: 11.4824 - val_loss: 5.5561 - val_mse: 5.5561\n",
      "Epoch 94/100\n",
      "7/7 [==============================] - 0s 11ms/step - loss: 11.2722 - mse: 11.2722 - val_loss: 5.4578 - val_mse: 5.4578\n",
      "Epoch 95/100\n",
      "7/7 [==============================] - 0s 9ms/step - loss: 11.0593 - mse: 11.0593 - val_loss: 5.3612 - val_mse: 5.3612\n",
      "Epoch 96/100\n",
      "7/7 [==============================] - 0s 9ms/step - loss: 10.8051 - mse: 10.8051 - val_loss: 5.2860 - val_mse: 5.2860\n",
      "Epoch 97/100\n",
      "7/7 [==============================] - 0s 10ms/step - loss: 10.7760 - mse: 10.7760 - val_loss: 5.1989 - val_mse: 5.1989\n",
      "Epoch 98/100\n",
      "7/7 [==============================] - 0s 9ms/step - loss: 10.5257 - mse: 10.5257 - val_loss: 5.0638 - val_mse: 5.0638\n",
      "Epoch 99/100\n",
      "7/7 [==============================] - 0s 11ms/step - loss: 10.3441 - mse: 10.3441 - val_loss: 4.9622 - val_mse: 4.9622\n",
      "Epoch 100/100\n",
      "7/7 [==============================] - 0s 11ms/step - loss: 10.1284 - mse: 10.1284 - val_loss: 4.8705 - val_mse: 4.8705\n"
     ]
    },
    {
     "data": {
      "text/plain": [
       "<keras.callbacks.History at 0x1e0c1f1bf10>"
      ]
     },
     "execution_count": 15,
     "metadata": {},
     "output_type": "execute_result"
    }
   ],
   "source": [
    "model.fit(X_train, y_train, batch_size=50, validation_split=0.2, epochs = 100, verbose = 1)"
   ]
  },
  {
   "cell_type": "code",
   "execution_count": 16,
   "id": "16754743",
   "metadata": {},
   "outputs": [
    {
     "name": "stdout",
     "output_type": "stream",
     "text": [
      "6/6 [==============================] - 0s 4ms/step - loss: 4.6128 - mse: 4.6128\n"
     ]
    }
   ],
   "source": [
    "results = model.evaluate(X_test, y_test)"
   ]
  },
  {
   "cell_type": "code",
   "execution_count": 18,
   "id": "ce5cbb81",
   "metadata": {},
   "outputs": [
    {
     "data": {
      "text/plain": [
       "4.612832546234131"
      ]
     },
     "execution_count": 18,
     "metadata": {},
     "output_type": "execute_result"
    }
   ],
   "source": [
    "results[0]"
   ]
  },
  {
   "cell_type": "code",
   "execution_count": 19,
   "id": "2e4ff6bf",
   "metadata": {},
   "outputs": [
    {
     "data": {
      "text/plain": [
       "4.612832546234131"
      ]
     },
     "execution_count": 19,
     "metadata": {},
     "output_type": "execute_result"
    }
   ],
   "source": [
    "results[1]"
   ]
  },
  {
   "cell_type": "code",
   "execution_count": null,
   "id": "5ea79719",
   "metadata": {},
   "outputs": [],
   "source": []
  }
 ],
 "metadata": {
  "kernelspec": {
   "display_name": "Python 3 (ipykernel)",
   "language": "python",
   "name": "python3"
  },
  "language_info": {
   "codemirror_mode": {
    "name": "ipython",
    "version": 3
   },
   "file_extension": ".py",
   "mimetype": "text/x-python",
   "name": "python",
   "nbconvert_exporter": "python",
   "pygments_lexer": "ipython3",
   "version": "3.11.2"
  }
 },
 "nbformat": 4,
 "nbformat_minor": 5
}

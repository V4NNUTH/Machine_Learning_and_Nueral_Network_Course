{
 "cells": [
  {
   "cell_type": "code",
   "execution_count": 1,
   "id": "c5756566",
   "metadata": {},
   "outputs": [],
   "source": [
    "initial_state = [[3,1,2],[4,5,8],[6,0,7]]\n",
    "goal_state = [[0,1,2],[3,4,5],[6,7,8]]"
   ]
  },
  {
   "cell_type": "code",
   "execution_count": 2,
   "id": "d451b27a",
   "metadata": {},
   "outputs": [],
   "source": [
    "def heuristic(state):\n",
    "    h = 0\n",
    "    for i in range(3):\n",
    "        for j in range(3):\n",
    "            if state[i][j] != goal_state[i][j]:\n",
    "                h = h + 1\n",
    "    return h    "
   ]
  },
  {
   "cell_type": "code",
   "execution_count": 3,
   "id": "bbedfcc7",
   "metadata": {},
   "outputs": [
    {
     "data": {
      "text/plain": [
       "6"
      ]
     },
     "execution_count": 3,
     "metadata": {},
     "output_type": "execute_result"
    }
   ],
   "source": [
    "heuristic(initial_state)"
   ]
  },
  {
   "cell_type": "code",
   "execution_count": 4,
   "id": "eab7b664",
   "metadata": {},
   "outputs": [],
   "source": [
    "def get_neighbors(state):\n",
    "    neighbors_list = []\n",
    "    \n",
    "    for i in range(3):\n",
    "        for j in range(3):\n",
    "            if state[i][j] == 0:\n",
    "                # up\n",
    "                if i > 0:\n",
    "                    new_state_up = [rows.copy() for rows in state]\n",
    "                    new_state_up[i][j], new_state_up[i-1][j] = new_state_up[i-1][j], new_state_up[i][j]\n",
    "                    neighbors_list.append(new_state_up)\n",
    "                \n",
    "                # down\n",
    "                if i < 2:\n",
    "                    new_state_down = [rows.copy() for rows in state]\n",
    "                    new_state_down[i][j], new_state_down[i+1][j] = new_state_down[i+1][j], new_state_down[i][j]\n",
    "                    neighbors_list.append(new_state_down)\n",
    "                \n",
    "                # right\n",
    "                if j < 2:\n",
    "                    new_state_right = [rows.copy() for rows in state]\n",
    "                    new_state_right[i][j], new_state_right[i][j+1] = new_state_right[i][j+1], new_state_right[i][j]\n",
    "                    neighbors_list.append(new_state_right)\n",
    "                \n",
    "                # left\n",
    "                if j > 0:\n",
    "                    new_state_left = [rows.copy() for rows in state]\n",
    "                    new_state_left[i][j], new_state_left[i][j-1] = new_state_left[i][j-1], new_state_left[i][j]\n",
    "                    neighbors_list.append(new_state_left)\n",
    "    \n",
    "    return neighbors_list"
   ]
  },
  {
   "cell_type": "code",
   "execution_count": 5,
   "id": "9372fae4",
   "metadata": {},
   "outputs": [],
   "source": [
    "def hill_climbing(initial_state):\n",
    "    current_state = initial_state\n",
    "    current_heuristic = heuristic(initial_state)\n",
    "\n",
    "    while current_heuristic > 0:\n",
    "        neighbors = get_neighbors(current_state)\n",
    "        best_neighbor = min(neighbors, key=heuristic)\n",
    "\n",
    "        if heuristic(best_neighbor) >= current_heuristic:\n",
    "            break\n",
    "\n",
    "        current_state = best_neighbor\n",
    "        print(\"Visited State:\")\n",
    "        for row in current_state:\n",
    "            print(row)\n",
    "\n",
    "        current_heuristic = heuristic(best_neighbor)\n",
    "\n",
    "    return current_state"
   ]
  },
  {
   "cell_type": "code",
   "execution_count": 6,
   "id": "31a197c6",
   "metadata": {},
   "outputs": [
    {
     "name": "stdout",
     "output_type": "stream",
     "text": [
      "Visited State:\n",
      "[3, 1, 2]\n",
      "[4, 5, 8]\n",
      "[6, 7, 0]\n",
      "Visited State:\n",
      "[3, 1, 2]\n",
      "[4, 5, 0]\n",
      "[6, 7, 8]\n",
      "Visited State:\n",
      "[3, 1, 2]\n",
      "[4, 0, 5]\n",
      "[6, 7, 8]\n",
      "Visited State:\n",
      "[3, 1, 2]\n",
      "[0, 4, 5]\n",
      "[6, 7, 8]\n",
      "Visited State:\n",
      "[0, 1, 2]\n",
      "[3, 4, 5]\n",
      "[6, 7, 8]\n",
      "Final State:\n",
      "[0, 1, 2]\n",
      "[3, 4, 5]\n",
      "[6, 7, 8]\n"
     ]
    }
   ],
   "source": [
    "final_state = hill_climbing(initial_state)\n",
    "print('Final State:')\n",
    "for rows in final_state:\n",
    "    print(rows)"
   ]
  },
  {
   "cell_type": "code",
   "execution_count": null,
   "id": "299534b4",
   "metadata": {},
   "outputs": [],
   "source": []
  }
 ],
 "metadata": {
  "kernelspec": {
   "display_name": "Python 3 (ipykernel)",
   "language": "python",
   "name": "python3"
  },
  "language_info": {
   "codemirror_mode": {
    "name": "ipython",
    "version": 3
   },
   "file_extension": ".py",
   "mimetype": "text/x-python",
   "name": "python",
   "nbconvert_exporter": "python",
   "pygments_lexer": "ipython3",
   "version": "3.11.2"
  }
 },
 "nbformat": 4,
 "nbformat_minor": 5
}

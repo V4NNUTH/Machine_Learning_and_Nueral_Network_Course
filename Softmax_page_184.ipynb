{
 "cells": [
  {
   "attachments": {
    "image.png": {
     "image/png": "[encoded data removed]"
    }
   },
   "cell_type": "markdown",
   "id": "f1f30f23",
   "metadata": {},
   "source": [
    "![image.png](attachment:image.png)"
   ]
  },
  {
   "cell_type": "code",
   "execution_count": 1,
   "id": "228108b1",
   "metadata": {},
   "outputs": [
    {
     "data": {
      "text/plain": [
       "(array([0.01578405, 0.00580663, 0.11662925, 0.86178007]),\n",
       " array([0.11111111, 0.        , 0.33333333, 0.55555556]))"
      ]
     },
     "execution_count": 1,
     "metadata": {},
     "output_type": "execute_result"
    }
   ],
   "source": [
    "import numpy as np\n",
    "\n",
    "def softmax(x):\n",
    "    #\"apply softmax to an input x\n",
    "    e_x = np.exp(x)\n",
    "    return e_x / e_x.sum()\n",
    "\n",
    "x = np.array([1, 0, 3, 5])\n",
    "y = softmax(x)\n",
    "y, x / x.sum()"
   ]
  },
  {
   "cell_type": "code",
   "execution_count": 2,
   "id": "7b7f05b4",
   "metadata": {},
   "outputs": [
    {
     "name": "stdout",
     "output_type": "stream",
     "text": [
      "[0.00490169 0.26762315 0.72747516]\n",
      "[[-2.40265555e-05 -1.31180548e-03 -3.56585701e-03]\n",
      " [-1.31180548e-03 -7.16221526e-02 -1.94689196e-01]\n",
      " [-3.56585701e-03 -1.94689196e-01 -5.29220104e-01]]\n"
     ]
    },
    {
     "data": {
      "text/plain": [
       "array([[ 0.00487766, -0.00131181, -0.00356586],\n",
       "       [-0.00131181,  0.196001  , -0.1946892 ],\n",
       "       [-0.00356586, -0.1946892 ,  0.19825505]])"
      ]
     },
     "execution_count": 2,
     "metadata": {},
     "output_type": "execute_result"
    }
   ],
   "source": [
    "import numpy as np\n",
    "def softmax(x):\n",
    "    e_x = np.exp(x)\n",
    "    return e_x / e_x.sum()\n",
    "s = softmax(np.array([0, 4, 5]))\n",
    "\n",
    "si_sj = - s * s.reshape(3, 1)\n",
    "print(s)\n",
    "print(si_sj)\n",
    "s_der = np.diag(s) + si_sj\n",
    "s_der"
   ]
  },
  {
   "cell_type": "code",
   "execution_count": 3,
   "id": "7b8a28e7",
   "metadata": {},
   "outputs": [],
   "source": [
    "import numpy as np\n",
    "from scipy.stats import truncnorm\n",
    "def truncated_normal(mean=0, sd=1, low=0, upp=10):\n",
    "    return truncnorm((low - mean) / sd, (upp - mean) / sd, loc=mean, scale=sd)\n",
    "\n",
    "@np.vectorize\n",
    "def sigmoid(x):\n",
    "    return 1 / (1 + np.e ** -x)\n",
    "def softmax(x):\n",
    "    e_x = np.exp(x)\n",
    "    return e_x / e_x.sum()\n",
    "\n",
    "class NeuralNetwork:\n",
    "    def __init__(self,\n",
    "                    no_of_in_nodes,\n",
    "                    no_of_out_nodes,\n",
    "                    no_of_hidden_nodes,\n",
    "                    learning_rate,\n",
    "                    softmax=True):\n",
    "        self.no_of_in_nodes = no_of_in_nodes\n",
    "        self.no_of_out_nodes = no_of_out_nodes\n",
    "        self.no_of_hidden_nodes = no_of_hidden_nodes\n",
    "        self.learning_rate = learning_rate\n",
    "        self.softmax = softmax\n",
    "        self.create_weight_matrices()\n",
    "    def create_weight_matrices(self):\n",
    "        \"\"\" A method to initialize the weight matrices of the neur\n",
    "        al network\"\"\"\n",
    "        rad = 1 / np.sqrt(self.no_of_in_nodes)\n",
    "        X = truncated_normal(mean=0, sd=1, low=-rad, upp=rad)\n",
    "        self.weights_in_hidden = X.rvs((self.no_of_hidden_nodes,self.no_of_in_nodes))\n",
    "        rad = 1 / np.sqrt(self.no_of_hidden_nodes)\n",
    "        X = truncated_normal(mean=0, sd=1, low=-rad, upp=rad)\n",
    "        self.weights_hidden_out = X.rvs((self.no_of_out_nodes,self.no_of_hidden_nodes))\n",
    "        \n",
    "    def train(self, input_vector, target_vector):\n",
    "        \"\"\"\n",
    "        input_vector and target_vector can be tuples, lists or nda\n",
    "        rrays\n",
    "        \"\"\"\n",
    "        # make sure that the vectors have the right shape\n",
    "        input_vector = np.array(input_vector)\n",
    "        input_vector = input_vector.reshape(input_vector.size, 1)\n",
    "        target_vector = np.array(target_vector).reshape(target_vector.size, 1)\n",
    "        output_vector_hidden = sigmoid(self.weights_in_hidden @ input_vector)\n",
    "        if self.softmax:\n",
    "            output_vector_network = softmax(self.weights_hidden_out @ output_vector_hidden)\n",
    "        else:\n",
    "            output_vector_network = sigmoid(self.weights_hidden_out @ output_vector_hidden)\n",
    "        \n",
    "        output_error = target_vector - output_vector_network\n",
    "        if self.softmax:\n",
    "            ovn = output_vector_network.reshape(output_vector_network.size,)\n",
    "            si_sj = - ovn * ovn.reshape(self.no_of_out_nodes, 1)\n",
    "            s_der = np.diag(ovn) + si_sj\n",
    "            tmp = s_der @ output_error\n",
    "            self.weights_hidden_out += self.learning_rate * (tmp@ output_vector_hidden.T)\n",
    "        else:\n",
    "            tmp = output_error * output_vector_network * (1.0 - output_vector_network)\n",
    "            self.weights_hidden_out += self.learning_rate * (tmp@ output_vector_hidden.T)\n",
    "            \n",
    "        # calculate hidden errors:\n",
    "        hidden_errors = self.weights_hidden_out.T @ output_error\n",
    "        # update the weights:\n",
    "        tmp = hidden_errors * output_vector_hidden * (1.0 - output_vector_hidden)\n",
    "        self.weights_in_hidden += self.learning_rate * (tmp @ input_vector.T) \n",
    "        \n",
    "    def run(self, input_vector):\n",
    "        \"\"\"\n",
    "        running the network with an input vector 'input_vector'.\n",
    "        'input_vector' can be tuple, list or ndarray\n",
    "        \"\"\"\n",
    "        # make sure that input_vector is a column vector:\n",
    "        input_vector = np.array(input_vector)\n",
    "        input_vector = input_vector.reshape(input_vector.size, 1)\n",
    "        input4hidden = sigmoid(self.weights_in_hidden @ input_vector)\n",
    "\n",
    "        if self.softmax:\n",
    "            output_vector_network = softmax(self.weights_hidden_out @ input4hidden)\n",
    "        else:\n",
    "            output_vector_network = sigmoid(self.weights_hidden_out @ input4hidden)\n",
    "        return output_vector_network\n",
    "    \n",
    "    def evaluate(self, data, labels):\n",
    "        corrects, wrongs = 0, 0\n",
    "        for i in range(len(data)):\n",
    "            res = self.run(data[i])\n",
    "            res_max = res.argmax()\n",
    "            if res_max == labels[i]:\n",
    "                corrects += 1\n",
    "            else:\n",
    "                wrongs += 1\n",
    "        return corrects, wrongs"
   ]
  },
  {
   "cell_type": "code",
   "execution_count": 5,
   "id": "d380e7a3",
   "metadata": {},
   "outputs": [],
   "source": [
    "from sklearn.datasets import make_blobs\n",
    "n_samples = 300\n",
    "samples, labels = make_blobs(n_samples=n_samples,centers=([2, 6], [6, 2]),random_state=0)"
   ]
  },
  {
   "cell_type": "code",
   "execution_count": 6,
   "id": "959db15c",
   "metadata": {},
   "outputs": [
    {
     "data": {
      "image/png": "[encoded data removed]",
      "text/plain": [
       "<Figure size 640x480 with 1 Axes>"
      ]
     },
     "metadata": {},
     "output_type": "display_data"
    }
   ],
   "source": [
    "import matplotlib.pyplot as plt\n",
    "\n",
    "colours = ('green', 'red', 'blue', 'magenta', 'yellow', 'cyan')\n",
    "fig, ax = plt.subplots()\n",
    "\n",
    "for n_class in range(2):\n",
    "    ax.scatter(samples[labels==n_class][:, 0], samples[labels==n_class][:, 1],c=colours[n_class], s=40, label=str(n_class))\n",
    "\n",
    "size_of_learn_sample = int(n_samples * 0.8)\n",
    "learn_data = samples[:size_of_learn_sample]\n",
    "test_data = samples[-size_of_learn_sample:]"
   ]
  },
  {
   "cell_type": "code",
   "execution_count": 8,
   "id": "c476f0db",
   "metadata": {},
   "outputs": [],
   "source": [
    "#from neural_networks_softmax import NeuralNetwork\n",
    "simple_network = NeuralNetwork(no_of_in_nodes=2,\n",
    "                                no_of_out_nodes=2,\n",
    "                                no_of_hidden_nodes=5,\n",
    "                                learning_rate=0.3,\n",
    "                                softmax=True)"
   ]
  },
  {
   "cell_type": "code",
   "execution_count": 9,
   "id": "30115326",
   "metadata": {},
   "outputs": [
    {
     "name": "stdout",
     "output_type": "stream",
     "text": [
      "(1, 4) [[0.3965801]\n",
      " [0.6034199]] 1.0\n",
      "(2, 6) [[0.37050139]\n",
      " [0.62949861]] 1.0\n",
      "(3, 3) [[0.3545266]\n",
      " [0.6454734]] 1.0\n",
      "(6, 2) [[0.31840017]\n",
      " [0.68159983]] 1.0\n"
     ]
    }
   ],
   "source": [
    "for x in [(1, 4), (2, 6), (3, 3), (6, 2)]:\n",
    "    y = simple_network.run(x)\n",
    "    print(x, y, s.sum())\n"
   ]
  },
  {
   "cell_type": "code",
   "execution_count": 10,
   "id": "1bb922ed",
   "metadata": {},
   "outputs": [
    {
     "name": "stderr",
     "output_type": "stream",
     "text": [
      "C:\\Users\\Lenovo\\AppData\\Local\\Temp\\ipykernel_15616\\4050529347.py:2: DeprecationWarning: `np.float` is a deprecated alias for the builtin `float`. To silence this warning, use `float` by itself. Doing this will not modify any behavior and is safe. If you specifically wanted the numpy scalar type, use `np.float64` here.\n",
      "Deprecated in NumPy 1.20; for more details and guidance: https://numpy.org/devdocs/release/1.20.0-notes.html#deprecations\n",
      "  labels_one_hot = labels_one_hot.astype(np.float)\n"
     ]
    },
    {
     "data": {
      "text/plain": [
       "(236, 4)"
      ]
     },
     "execution_count": 10,
     "metadata": {},
     "output_type": "execute_result"
    }
   ],
   "source": [
    "labels_one_hot = (np.arange(2) == labels.reshape(labels.size, 1))\n",
    "labels_one_hot = labels_one_hot.astype(np.float)\n",
    "\n",
    "for i in range(size_of_learn_sample):\n",
    "    #print(learn_data[i], labels[i], labels_one_hot[i])\n",
    "    simple_network.train(learn_data[i],labels_one_hot[i])\n",
    "\n",
    "from collections import Counter\n",
    "evaluation = Counter()\n",
    "simple_network.evaluate(learn_data, labels)\n"
   ]
  },
  {
   "cell_type": "code",
   "execution_count": null,
   "id": "06453d22",
   "metadata": {},
   "outputs": [],
   "source": []
  }
 ],
 "metadata": {
  "kernelspec": {
   "display_name": "Python 3 (ipykernel)",
   "language": "python",
   "name": "python3"
  },
  "language_info": {
   "codemirror_mode": {
    "name": "ipython",
    "version": 3
   },
   "file_extension": ".py",
   "mimetype": "text/x-python",
   "name": "python",
   "nbconvert_exporter": "python",
   "pygments_lexer": "ipython3",
   "version": "3.11.2"
  }
 },
 "nbformat": 4,
 "nbformat_minor": 5
}

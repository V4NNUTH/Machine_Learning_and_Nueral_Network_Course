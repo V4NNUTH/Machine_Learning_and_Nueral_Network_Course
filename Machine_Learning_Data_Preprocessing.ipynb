{
 "cells": [
  {
   "cell_type": "markdown",
   "id": "2d58cb50",
   "metadata": {},
   "source": [
    "### Page 65"
   ]
  },
  {
   "cell_type": "markdown",
   "id": "c064eef8",
   "metadata": {},
   "source": [
    "## Data Preparation"
   ]
  },
  {
   "cell_type": "markdown",
   "id": "f267099e",
   "metadata": {},
   "source": [
    "### Learn, Test, and Evaluation Data"
   ]
  },
  {
   "cell_type": "code",
   "execution_count": 1,
   "id": "2b074d5c",
   "metadata": {},
   "outputs": [],
   "source": [
    "import numpy as np\n",
    "from sklearn.datasets import load_iris\n",
    "iris = load_iris()"
   ]
  },
  {
   "cell_type": "code",
   "execution_count": 2,
   "id": "5fba0f12",
   "metadata": {},
   "outputs": [
    {
     "data": {
      "text/plain": [
       "array([0, 0, 0, 0, 0, 0, 0, 0, 0, 0, 0, 0, 0, 0, 0, 0, 0, 0, 0, 0, 0, 0,\n",
       "       0, 0, 0, 0, 0, 0, 0, 0, 0, 0, 0, 0, 0, 0, 0, 0, 0, 0, 0, 0, 0, 0,\n",
       "       0, 0, 0, 0, 0, 0, 1, 1, 1, 1, 1, 1, 1, 1, 1, 1, 1, 1, 1, 1, 1, 1,\n",
       "       1, 1, 1, 1, 1, 1, 1, 1, 1, 1, 1, 1, 1, 1, 1, 1, 1, 1, 1, 1, 1, 1,\n",
       "       1, 1, 1, 1, 1, 1, 1, 1, 1, 1, 1, 1, 2, 2, 2, 2, 2, 2, 2, 2, 2, 2,\n",
       "       2, 2, 2, 2, 2, 2, 2, 2, 2, 2, 2, 2, 2, 2, 2, 2, 2, 2, 2, 2, 2, 2,\n",
       "       2, 2, 2, 2, 2, 2, 2, 2, 2, 2, 2, 2, 2, 2, 2, 2, 2, 2])"
      ]
     },
     "execution_count": 2,
     "metadata": {},
     "output_type": "execute_result"
    }
   ],
   "source": [
    "iris.target"
   ]
  },
  {
   "cell_type": "code",
   "execution_count": 3,
   "id": "52e4d651",
   "metadata": {},
   "outputs": [
    {
     "data": {
      "text/plain": [
       "array([132, 130,  14,   1,  27,  68, 104,  23, 122,  65,  90,   3,  32,\n",
       "       142,  44, 110,  85,  58,  92,  61,   0,  70, 101, 148, 100,  26,\n",
       "        69,  63,  80,  71,  56, 120, 105,  79,  37, 131, 140,  64,  28,\n",
       "       127,   9,  51,  25,  86,  29,  13, 141, 106, 119,  95,  82,  15,\n",
       "        46,  49, 115,  38,  93,  41, 138,  48,  43, 134,   5, 133,  50,\n",
       "        77, 117,   6,  18,  67,  21,  78, 146, 147, 103, 126,  99,  52,\n",
       "       128,  88, 107,  81,  72,  94,  45,  40,  73,  59, 139, 149, 125,\n",
       "         4,  24, 118,  30,  97,  60,  54,  33,  91, 123,  98,  87,   8,\n",
       "        75,  96,  10,  36,  55, 137,  66,  16, 112,  84, 114, 129,   2,\n",
       "       113, 144, 135,  19,  17,  39,  12, 143,  22,  42,  76,  31,  34,\n",
       "        20, 145,   7,  35,  83, 121, 136, 116, 109,  57,  47, 124,  11,\n",
       "        62, 111, 108,  74, 102,  89,  53])"
      ]
     },
     "execution_count": 3,
     "metadata": {},
     "output_type": "execute_result"
    }
   ],
   "source": [
    "indices = np.random.permutation(len(iris.data))\n",
    "indices"
   ]
  },
  {
   "cell_type": "code",
   "execution_count": 4,
   "id": "bf2b7fa1",
   "metadata": {},
   "outputs": [
    {
     "name": "stdout",
     "output_type": "stream",
     "text": [
      "[[6.4 2.8 5.6 2.2]\n",
      " [7.4 2.8 6.1 1.9]\n",
      " [5.8 4.  1.2 0.2]\n",
      " [4.9 3.  1.4 0.2]] [2 2 0 0]\n",
      "[[7.2 3.6 6.1 2.5]\n",
      " [4.9 2.4 3.3 1. ]\n",
      " [4.6 3.2 1.4 0.2]\n",
      " [6.7 3.3 5.7 2.1]] [2 1 0 2]\n"
     ]
    }
   ],
   "source": [
    "n_test_samples = 12\n",
    "learnset_data = iris.data[indices[:-n_test_samples]]\n",
    "learnset_labels = iris.target[indices[:-n_test_samples]]\n",
    "testset_data = iris.data[indices[-n_test_samples:]]\n",
    "testset_labels = iris.target[indices[-n_test_samples:]]\n",
    "print(learnset_data[:4], learnset_labels[:4])\n",
    "print(testset_data[:4], testset_labels[:4])\n"
   ]
  },
  {
   "cell_type": "markdown",
   "id": "f3ecffe9",
   "metadata": {},
   "source": [
    "### Splits with sklearn"
   ]
  },
  {
   "cell_type": "code",
   "execution_count": 2,
   "id": "35fe7039",
   "metadata": {},
   "outputs": [
    {
     "name": "stdout",
     "output_type": "stream",
     "text": [
      "The first 7 data sets: \n",
      "[[6.1 2.8 4.7 1.2]\n",
      " [5.7 3.8 1.7 0.3]\n",
      " [7.7 2.6 6.9 2.3]\n",
      " [6.  2.9 4.5 1.5]\n",
      " [6.8 2.8 4.8 1.4]\n",
      " [5.4 3.4 1.5 0.4]\n",
      " [5.6 2.9 3.6 1.3]]\n",
      "The Corresponding 7 labels:\n",
      "[1 0 2 1 1 0 1]\n"
     ]
    }
   ],
   "source": [
    "from sklearn.datasets import load_iris\n",
    "from sklearn.model_selection import train_test_split\n",
    "iris = load_iris()\n",
    "data, labels = iris.data, iris.target\n",
    "\n",
    "res = train_test_split(data, labels,\n",
    "                      train_size=0.8,\n",
    "                      test_size=0.2,\n",
    "                      random_state=42)\n",
    "train_data,test_data,train_labels,test_labels = res\n",
    "\n",
    "n=7\n",
    "print(f\"The first {n} data sets: \")\n",
    "print(test_data[:7])\n",
    "print(f\"The Corresponding {n} labels:\")\n",
    "print(test_labels[:7])"
   ]
  },
  {
   "cell_type": "markdown",
   "id": "2284603e",
   "metadata": {},
   "source": [
    "### Stratified Random Sample"
   ]
  },
  {
   "cell_type": "code",
   "execution_count": 3,
   "id": "223263c7",
   "metadata": {},
   "outputs": [
    {
     "name": "stdout",
     "output_type": "stream",
     "text": [
      "ALL: [33.33333333 33.33333333 33.33333333]\n",
      "Training: [33.33333333 34.16666667 32.5       ]\n",
      "Test: [33.33333333 30.         36.66666667]\n"
     ]
    }
   ],
   "source": [
    "import numpy as np\n",
    "print('ALL:',np.bincount(labels)/float(len(labels))* 100.0)\n",
    "print(\"Training:\",np.bincount(train_labels)/float(len(train_labels))*100.0)\n",
    "print('Test:',np.bincount(test_labels)/float(len(test_labels))*100.0)"
   ]
  },
  {
   "cell_type": "code",
   "execution_count": 4,
   "id": "d26a28e4",
   "metadata": {},
   "outputs": [
    {
     "name": "stdout",
     "output_type": "stream",
     "text": [
      "All: [33.33333333 33.33333333 33.33333333]\n",
      "Training: [33.33333333 33.33333333 33.33333333]\n",
      "Test: [33.33333333 33.33333333 33.33333333]\n"
     ]
    }
   ],
   "source": [
    "from sklearn.datasets import load_iris\n",
    "from sklearn.model_selection import train_test_split\n",
    "iris = load_iris()\n",
    "data, labels = iris.data, iris.target\n",
    "res = train_test_split(data, labels,\n",
    "                        train_size=0.8,\n",
    "                        test_size=0.2,\n",
    "                        random_state=42,\n",
    "                        stratify=labels)\n",
    "train_data, test_data, train_labels, test_labels = res\n",
    "print('All:', np.bincount(labels) / float(len(labels)) * 100.0)\n",
    "print('Training:', np.bincount(train_labels) / float(len(train_labels)) * 100.0)\n",
    "print('Test:', np.bincount(test_labels) / float(len(test_labels))* 100.0)"
   ]
  },
  {
   "cell_type": "code",
   "execution_count": 5,
   "id": "be423793",
   "metadata": {},
   "outputs": [
    {
     "data": {
      "text/plain": [
       "dtype('float64')"
      ]
     },
     "execution_count": 5,
     "metadata": {},
     "output_type": "execute_result"
    }
   ],
   "source": [
    "content = np.loadtxt(\"data/strange_flowers.txt\",delimiter=\" \")\n",
    "data = content[:, :-1]\n",
    "labels = content[:,-1]\n",
    "labels.dtype\n"
   ]
  },
  {
   "cell_type": "code",
   "execution_count": 6,
   "id": "713421c5",
   "metadata": {},
   "outputs": [
    {
     "data": {
      "text/plain": [
       "(780,)"
      ]
     },
     "execution_count": 6,
     "metadata": {},
     "output_type": "execute_result"
    }
   ],
   "source": [
    "labels.shape"
   ]
  },
  {
   "cell_type": "code",
   "execution_count": 8,
   "id": "6ee013cf",
   "metadata": {},
   "outputs": [
    {
     "name": "stdout",
     "output_type": "stream",
     "text": [
      "ALL: [ 0.         24.35897436 26.28205128 29.48717949 19.87179487]\n",
      "Training: [ 0.         24.35897436 26.28205128 29.48717949 19.87179487]\n",
      "Test: [ 0.         24.35897436 26.28205128 29.48717949 19.87179487]\n"
     ]
    }
   ],
   "source": [
    "res = train_test_split(data, labels,\n",
    "                      train_size=0.8,\n",
    "                      test_size=0.2,\n",
    "                      random_state=42,\n",
    "                      stratify=labels)\n",
    "train_data,test_data,train_labels,test_labels = res\n",
    "#np.bincount expects non negative integers\n",
    "print(\"ALL:\",np.bincount(labels.astype(int))/float(len(labels))*100.0)\n",
    "print(\"Training:\",np.bincount(train_labels.astype(int))/float(len(train_labels))*100.0)\n",
    "print(\"Test:\",np.bincount(test_labels.astype(int))/float(len(test_labels))*100.0)\n"
   ]
  },
  {
   "cell_type": "code",
   "execution_count": null,
   "id": "5acdf9bb",
   "metadata": {},
   "outputs": [],
   "source": []
  }
 ],
 "metadata": {
  "kernelspec": {
   "display_name": "Python 3 (ipykernel)",
   "language": "python",
   "name": "python3"
  },
  "language_info": {
   "codemirror_mode": {
    "name": "ipython",
    "version": 3
   },
   "file_extension": ".py",
   "mimetype": "text/x-python",
   "name": "python",
   "nbconvert_exporter": "python",
   "pygments_lexer": "ipython3",
   "version": "3.11.2"
  }
 },
 "nbformat": 4,
 "nbformat_minor": 5
}
